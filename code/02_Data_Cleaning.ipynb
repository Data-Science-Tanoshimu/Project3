{
 "cells": [
  {
   "cell_type": "markdown",
   "metadata": {},
   "source": [
    "# Import libraries"
   ]
  },
  {
   "cell_type": "code",
   "execution_count": 99,
   "metadata": {},
   "outputs": [],
   "source": [
    "import pandas as pd\n",
    "from bs4 import BeautifulSoup\n",
    "import re\n",
    "from nltk.stem.porter import PorterStemmer\n",
    "from sklearn.feature_extraction.text import CountVectorizer\n",
    "\n",
    "import matplotlib.pyplot as plt\n",
    "%matplotlib inline"
   ]
  },
  {
   "cell_type": "code",
   "execution_count": null,
   "metadata": {},
   "outputs": [],
   "source": []
  },
  {
   "cell_type": "markdown",
   "metadata": {},
   "source": [
    "# Load data"
   ]
  },
  {
   "cell_type": "code",
   "execution_count": 100,
   "metadata": {},
   "outputs": [],
   "source": [
    "sewing = pd.read_csv('../data/sewing_raw.csv')\n",
    "printing = pd.read_csv('../data/3dprinting_raw.csv')"
   ]
  },
  {
   "cell_type": "code",
   "execution_count": 101,
   "metadata": {},
   "outputs": [
    {
     "data": {
      "text/plain": [
       "(2000, 80)"
      ]
     },
     "execution_count": 101,
     "metadata": {},
     "output_type": "execute_result"
    }
   ],
   "source": [
    "sewing.shape"
   ]
  },
  {
   "cell_type": "code",
   "execution_count": 102,
   "metadata": {},
   "outputs": [
    {
     "data": {
      "text/plain": [
       "(2000, 80)"
      ]
     },
     "execution_count": 102,
     "metadata": {},
     "output_type": "execute_result"
    }
   ],
   "source": [
    "printing.shape"
   ]
  },
  {
   "cell_type": "markdown",
   "metadata": {},
   "source": [
    "#### Extract necessary data for modeling"
   ]
  },
  {
   "cell_type": "code",
   "execution_count": 103,
   "metadata": {},
   "outputs": [],
   "source": [
    "sewing = sewing[['subreddit', 'selftext', 'title']]\n",
    "printing = printing[['subreddit', 'selftext', 'title']]"
   ]
  },
  {
   "cell_type": "code",
   "execution_count": 104,
   "metadata": {},
   "outputs": [
    {
     "data": {
      "text/html": [
       "<div>\n",
       "<style scoped>\n",
       "    .dataframe tbody tr th:only-of-type {\n",
       "        vertical-align: middle;\n",
       "    }\n",
       "\n",
       "    .dataframe tbody tr th {\n",
       "        vertical-align: top;\n",
       "    }\n",
       "\n",
       "    .dataframe thead th {\n",
       "        text-align: right;\n",
       "    }\n",
       "</style>\n",
       "<table border=\"1\" class=\"dataframe\">\n",
       "  <thead>\n",
       "    <tr style=\"text-align: right;\">\n",
       "      <th></th>\n",
       "      <th>subreddit</th>\n",
       "      <th>selftext</th>\n",
       "      <th>title</th>\n",
       "    </tr>\n",
       "  </thead>\n",
       "  <tbody>\n",
       "    <tr>\n",
       "      <td>0</td>\n",
       "      <td>sewing</td>\n",
       "      <td>NaN</td>\n",
       "      <td>Just finished this late (nowhere near accurate...</td>\n",
       "    </tr>\n",
       "    <tr>\n",
       "      <td>1</td>\n",
       "      <td>sewing</td>\n",
       "      <td>NaN</td>\n",
       "      <td>Too excited to not share! Almost finished with...</td>\n",
       "    </tr>\n",
       "    <tr>\n",
       "      <td>2</td>\n",
       "      <td>sewing</td>\n",
       "      <td>NaN</td>\n",
       "      <td>A different view of the this 2 piece set I mad...</td>\n",
       "    </tr>\n",
       "    <tr>\n",
       "      <td>3</td>\n",
       "      <td>sewing</td>\n",
       "      <td>NaN</td>\n",
       "      <td>I made this 2 piece set for 4th of July. Ruche...</td>\n",
       "    </tr>\n",
       "    <tr>\n",
       "      <td>4</td>\n",
       "      <td>sewing</td>\n",
       "      <td>NaN</td>\n",
       "      <td>First sewing project! Sometimes you gotta leap...</td>\n",
       "    </tr>\n",
       "    <tr>\n",
       "      <td>...</td>\n",
       "      <td>...</td>\n",
       "      <td>...</td>\n",
       "      <td>...</td>\n",
       "    </tr>\n",
       "    <tr>\n",
       "      <td>1995</td>\n",
       "      <td>sewing</td>\n",
       "      <td>NaN</td>\n",
       "      <td>Looking for Vogue 9374 in Large or XL</td>\n",
       "    </tr>\n",
       "    <tr>\n",
       "      <td>1996</td>\n",
       "      <td>sewing</td>\n",
       "      <td>I’m still fairly new to sewing and having a go...</td>\n",
       "      <td>Zip and Waistband question!</td>\n",
       "    </tr>\n",
       "    <tr>\n",
       "      <td>1997</td>\n",
       "      <td>sewing</td>\n",
       "      <td>NaN</td>\n",
       "      <td>Looking for Vogue 8669 in Large or XL Caftan P...</td>\n",
       "    </tr>\n",
       "    <tr>\n",
       "      <td>1998</td>\n",
       "      <td>sewing</td>\n",
       "      <td>NaN</td>\n",
       "      <td>Was sewing late... Sophie wanted to go to bed,...</td>\n",
       "    </tr>\n",
       "    <tr>\n",
       "      <td>1999</td>\n",
       "      <td>sewing</td>\n",
       "      <td>NaN</td>\n",
       "      <td>Matching stripes win</td>\n",
       "    </tr>\n",
       "  </tbody>\n",
       "</table>\n",
       "<p>2000 rows × 3 columns</p>\n",
       "</div>"
      ],
      "text/plain": [
       "     subreddit                                           selftext  \\\n",
       "0       sewing                                                NaN   \n",
       "1       sewing                                                NaN   \n",
       "2       sewing                                                NaN   \n",
       "3       sewing                                                NaN   \n",
       "4       sewing                                                NaN   \n",
       "...        ...                                                ...   \n",
       "1995    sewing                                                NaN   \n",
       "1996    sewing  I’m still fairly new to sewing and having a go...   \n",
       "1997    sewing                                                NaN   \n",
       "1998    sewing                                                NaN   \n",
       "1999    sewing                                                NaN   \n",
       "\n",
       "                                                  title  \n",
       "0     Just finished this late (nowhere near accurate...  \n",
       "1     Too excited to not share! Almost finished with...  \n",
       "2     A different view of the this 2 piece set I mad...  \n",
       "3     I made this 2 piece set for 4th of July. Ruche...  \n",
       "4     First sewing project! Sometimes you gotta leap...  \n",
       "...                                                 ...  \n",
       "1995              Looking for Vogue 9374 in Large or XL  \n",
       "1996                        Zip and Waistband question!  \n",
       "1997  Looking for Vogue 8669 in Large or XL Caftan P...  \n",
       "1998  Was sewing late... Sophie wanted to go to bed,...  \n",
       "1999                               Matching stripes win  \n",
       "\n",
       "[2000 rows x 3 columns]"
      ]
     },
     "execution_count": 104,
     "metadata": {},
     "output_type": "execute_result"
    }
   ],
   "source": [
    "sewing"
   ]
  },
  {
   "cell_type": "code",
   "execution_count": 105,
   "metadata": {},
   "outputs": [
    {
     "data": {
      "text/html": [
       "<div>\n",
       "<style scoped>\n",
       "    .dataframe tbody tr th:only-of-type {\n",
       "        vertical-align: middle;\n",
       "    }\n",
       "\n",
       "    .dataframe tbody tr th {\n",
       "        vertical-align: top;\n",
       "    }\n",
       "\n",
       "    .dataframe thead th {\n",
       "        text-align: right;\n",
       "    }\n",
       "</style>\n",
       "<table border=\"1\" class=\"dataframe\">\n",
       "  <thead>\n",
       "    <tr style=\"text-align: right;\">\n",
       "      <th></th>\n",
       "      <th>subreddit</th>\n",
       "      <th>selftext</th>\n",
       "      <th>title</th>\n",
       "    </tr>\n",
       "  </thead>\n",
       "  <tbody>\n",
       "    <tr>\n",
       "      <td>0</td>\n",
       "      <td>3Dprinting</td>\n",
       "      <td>NaN</td>\n",
       "      <td>How to fix these gaps in 3d printing layers?</td>\n",
       "    </tr>\n",
       "    <tr>\n",
       "      <td>1</td>\n",
       "      <td>3Dprinting</td>\n",
       "      <td>NaN</td>\n",
       "      <td>So close yet still so far..</td>\n",
       "    </tr>\n",
       "    <tr>\n",
       "      <td>2</td>\n",
       "      <td>3Dprinting</td>\n",
       "      <td>NaN</td>\n",
       "      <td>I've started a weekly vlog, documenting my 3D ...</td>\n",
       "    </tr>\n",
       "    <tr>\n",
       "      <td>3</td>\n",
       "      <td>3Dprinting</td>\n",
       "      <td>NaN</td>\n",
       "      <td>Filaments here! Now I just gotta wait for the ...</td>\n",
       "    </tr>\n",
       "    <tr>\n",
       "      <td>4</td>\n",
       "      <td>3Dprinting</td>\n",
       "      <td>NaN</td>\n",
       "      <td>Is two-part epoxy enough to hold these printed...</td>\n",
       "    </tr>\n",
       "    <tr>\n",
       "      <td>...</td>\n",
       "      <td>...</td>\n",
       "      <td>...</td>\n",
       "      <td>...</td>\n",
       "    </tr>\n",
       "    <tr>\n",
       "      <td>1995</td>\n",
       "      <td>3Dprinting</td>\n",
       "      <td>Hello!  I'm new to 3D Printing, I just recentl...</td>\n",
       "      <td>The best way to get that nice, smooth, texture?</td>\n",
       "    </tr>\n",
       "    <tr>\n",
       "      <td>1996</td>\n",
       "      <td>3Dprinting</td>\n",
       "      <td>NaN</td>\n",
       "      <td>Almost had enough filament!</td>\n",
       "    </tr>\n",
       "    <tr>\n",
       "      <td>1997</td>\n",
       "      <td>3Dprinting</td>\n",
       "      <td>Ok so here is the problem I have / try to solv...</td>\n",
       "      <td>Is there a way to use Filament Runout Sensors ...</td>\n",
       "    </tr>\n",
       "    <tr>\n",
       "      <td>1998</td>\n",
       "      <td>3Dprinting</td>\n",
       "      <td>Ok so here is the problem I have / try to solv...</td>\n",
       "      <td>Is there a way to use Filamnt Runout Sensors (...</td>\n",
       "    </tr>\n",
       "    <tr>\n",
       "      <td>1999</td>\n",
       "      <td>3Dprinting</td>\n",
       "      <td>NaN</td>\n",
       "      <td>Does anyone know how I can fix this problem (s...</td>\n",
       "    </tr>\n",
       "  </tbody>\n",
       "</table>\n",
       "<p>2000 rows × 3 columns</p>\n",
       "</div>"
      ],
      "text/plain": [
       "       subreddit                                           selftext  \\\n",
       "0     3Dprinting                                                NaN   \n",
       "1     3Dprinting                                                NaN   \n",
       "2     3Dprinting                                                NaN   \n",
       "3     3Dprinting                                                NaN   \n",
       "4     3Dprinting                                                NaN   \n",
       "...          ...                                                ...   \n",
       "1995  3Dprinting  Hello!  I'm new to 3D Printing, I just recentl...   \n",
       "1996  3Dprinting                                                NaN   \n",
       "1997  3Dprinting  Ok so here is the problem I have / try to solv...   \n",
       "1998  3Dprinting  Ok so here is the problem I have / try to solv...   \n",
       "1999  3Dprinting                                                NaN   \n",
       "\n",
       "                                                  title  \n",
       "0          How to fix these gaps in 3d printing layers?  \n",
       "1                           So close yet still so far..  \n",
       "2     I've started a weekly vlog, documenting my 3D ...  \n",
       "3     Filaments here! Now I just gotta wait for the ...  \n",
       "4     Is two-part epoxy enough to hold these printed...  \n",
       "...                                                 ...  \n",
       "1995    The best way to get that nice, smooth, texture?  \n",
       "1996                        Almost had enough filament!  \n",
       "1997  Is there a way to use Filament Runout Sensors ...  \n",
       "1998  Is there a way to use Filamnt Runout Sensors (...  \n",
       "1999  Does anyone know how I can fix this problem (s...  \n",
       "\n",
       "[2000 rows x 3 columns]"
      ]
     },
     "execution_count": 105,
     "metadata": {},
     "output_type": "execute_result"
    }
   ],
   "source": [
    "printing"
   ]
  },
  {
   "cell_type": "markdown",
   "metadata": {},
   "source": [
    "# Cleaning"
   ]
  },
  {
   "cell_type": "markdown",
   "metadata": {},
   "source": [
    "##### Looking at the printing, there is a dupulication at the index 1997 and 1998"
   ]
  },
  {
   "cell_type": "code",
   "execution_count": 106,
   "metadata": {},
   "outputs": [
    {
     "name": "stdout",
     "output_type": "stream",
     "text": [
      "sewing duplication:24\n",
      "printing duplication:42\n"
     ]
    }
   ],
   "source": [
    "print('sewing duplication:' + str(sewing.duplicated().sum()))\n",
    "print('printing duplication:' + str(printing.duplicated().sum()))"
   ]
  },
  {
   "cell_type": "markdown",
   "metadata": {},
   "source": [
    "#### Drop duplications"
   ]
  },
  {
   "cell_type": "code",
   "execution_count": 107,
   "metadata": {},
   "outputs": [],
   "source": [
    "sewing.drop_duplicates(inplace=True)\n",
    "printing.drop_duplicates(inplace=True)"
   ]
  },
  {
   "cell_type": "code",
   "execution_count": 108,
   "metadata": {},
   "outputs": [
    {
     "name": "stdout",
     "output_type": "stream",
     "text": [
      "sewing duplication:0\n",
      "printing duplication:0\n"
     ]
    }
   ],
   "source": [
    "print('sewing duplication:' + str(sewing.duplicated().sum()))\n",
    "print('printing duplication:' + str(printing.duplicated().sum()))"
   ]
  },
  {
   "cell_type": "code",
   "execution_count": 109,
   "metadata": {},
   "outputs": [
    {
     "data": {
      "text/plain": [
       "(1976, 3)"
      ]
     },
     "execution_count": 109,
     "metadata": {},
     "output_type": "execute_result"
    }
   ],
   "source": [
    "sewing.shape"
   ]
  },
  {
   "cell_type": "code",
   "execution_count": 110,
   "metadata": {},
   "outputs": [
    {
     "data": {
      "text/plain": [
       "(1958, 3)"
      ]
     },
     "execution_count": 110,
     "metadata": {},
     "output_type": "execute_result"
    }
   ],
   "source": [
    "printing.shape"
   ]
  },
  {
   "cell_type": "markdown",
   "metadata": {},
   "source": [
    "#### Check null"
   ]
  },
  {
   "cell_type": "code",
   "execution_count": 111,
   "metadata": {},
   "outputs": [
    {
     "data": {
      "text/plain": [
       "subreddit       0\n",
       "selftext     1248\n",
       "title           0\n",
       "dtype: int64"
      ]
     },
     "execution_count": 111,
     "metadata": {},
     "output_type": "execute_result"
    }
   ],
   "source": [
    "sewing.isnull().sum()"
   ]
  },
  {
   "cell_type": "code",
   "execution_count": 112,
   "metadata": {},
   "outputs": [
    {
     "data": {
      "text/plain": [
       "subreddit       0\n",
       "selftext     1181\n",
       "title           0\n",
       "dtype: int64"
      ]
     },
     "execution_count": 112,
     "metadata": {},
     "output_type": "execute_result"
    }
   ],
   "source": [
    "printing.isnull().sum()"
   ]
  },
  {
   "cell_type": "markdown",
   "metadata": {},
   "source": [
    "There were a lot of null on the selftext. For keeping the title information, the nulls are going to be filled with 'none text'"
   ]
  },
  {
   "cell_type": "markdown",
   "metadata": {},
   "source": [
    "#### Fill null with 'none text'"
   ]
  },
  {
   "cell_type": "code",
   "execution_count": 113,
   "metadata": {},
   "outputs": [],
   "source": [
    "sewing['selftext'].fillna('none text', inplace=True)\n",
    "printing['selftext'].fillna('none text', inplace=True)"
   ]
  },
  {
   "cell_type": "code",
   "execution_count": 114,
   "metadata": {},
   "outputs": [
    {
     "data": {
      "text/plain": [
       "subreddit    0\n",
       "selftext     0\n",
       "title        0\n",
       "dtype: int64"
      ]
     },
     "execution_count": 114,
     "metadata": {},
     "output_type": "execute_result"
    }
   ],
   "source": [
    "sewing.isnull().sum()"
   ]
  },
  {
   "cell_type": "code",
   "execution_count": 115,
   "metadata": {},
   "outputs": [
    {
     "data": {
      "text/plain": [
       "subreddit    0\n",
       "selftext     0\n",
       "title        0\n",
       "dtype: int64"
      ]
     },
     "execution_count": 115,
     "metadata": {},
     "output_type": "execute_result"
    }
   ],
   "source": [
    "printing.isnull().sum()"
   ]
  },
  {
   "cell_type": "markdown",
   "metadata": {},
   "source": [
    "##### The cell below was used for checking what words the data contained"
   ]
  },
  {
   "cell_type": "code",
   "execution_count": 130,
   "metadata": {},
   "outputs": [
    {
     "data": {
      "text/plain": [
       "\"for i in sewing['selftext']:\\n    print(i)\""
      ]
     },
     "execution_count": 130,
     "metadata": {},
     "output_type": "execute_result"
    }
   ],
   "source": [
    "\"\"\"for i in sewing['selftext']:\n",
    "    print(i)\"\"\""
   ]
  },
  {
   "cell_type": "markdown",
   "metadata": {},
   "source": [
    "#### Remove html tags"
   ]
  },
  {
   "cell_type": "code",
   "execution_count": 117,
   "metadata": {},
   "outputs": [],
   "source": [
    "def remove_html(text):\n",
    "    soup = BeautifulSoup(text)\n",
    "    \n",
    "    return soup.get_text()"
   ]
  },
  {
   "cell_type": "markdown",
   "metadata": {},
   "source": [
    "#### Remove URL"
   ]
  },
  {
   "cell_type": "code",
   "execution_count": 118,
   "metadata": {},
   "outputs": [],
   "source": [
    "def remove_url(text):\n",
    "    new_text = re.sub(r'https?://\\S+|www\\.\\S+', '', text)\n",
    "    \n",
    "    return new_text"
   ]
  },
  {
   "cell_type": "markdown",
   "metadata": {},
   "source": [
    "#### Remove not words"
   ]
  },
  {
   "cell_type": "code",
   "execution_count": 129,
   "metadata": {},
   "outputs": [],
   "source": [
    "def remove_not_words(text):\n",
    "    new_text = re.sub('[^a-zA-Z]', ' ', text)\n",
    "    \n",
    "    return new_text"
   ]
  },
  {
   "cell_type": "markdown",
   "metadata": {},
   "source": [
    "#### Stemming"
   ]
  },
  {
   "cell_type": "code",
   "execution_count": 121,
   "metadata": {},
   "outputs": [],
   "source": [
    "def stemming(text):\n",
    "    p_stemmer = PorterStemmer()\n",
    "    split_list = text.lower().split()\n",
    "    stemmed = [p_stemmer.stem(i) for i in split_list]\n",
    "    \n",
    "    return ' '.join(stemmed)"
   ]
  },
  {
   "cell_type": "markdown",
   "metadata": {},
   "source": [
    "#### Clean text"
   ]
  },
  {
   "cell_type": "code",
   "execution_count": 122,
   "metadata": {},
   "outputs": [],
   "source": [
    "def clean_text(text):\n",
    "    rem_html_text = remove_html(text)\n",
    "    \n",
    "    rem_url_text = remove_url(rem_html_text)\n",
    "    \n",
    "    rem_not_words_text = remove_not_words(rem_url_text)\n",
    "    \n",
    "    stem_text = stemming(rem_not_words_text)\n",
    "    \n",
    "    return stem_text"
   ]
  },
  {
   "cell_type": "code",
   "execution_count": 123,
   "metadata": {},
   "outputs": [],
   "source": [
    "sewing['selftext'] = sewing['selftext'].apply(lambda x: clean_text(x))\n",
    "sewing['title'] = sewing['title'].apply(lambda x: clean_text(x))\n",
    "printing['selftext'] = printing['selftext'].apply(lambda x: clean_text(x))\n",
    "printing['title'] = printing['title'].apply(lambda x: clean_text(x))"
   ]
  },
  {
   "cell_type": "code",
   "execution_count": 124,
   "metadata": {},
   "outputs": [
    {
     "data": {
      "text/plain": [
       "(1976, 3)"
      ]
     },
     "execution_count": 124,
     "metadata": {},
     "output_type": "execute_result"
    }
   ],
   "source": [
    "sewing.shape"
   ]
  },
  {
   "cell_type": "code",
   "execution_count": null,
   "metadata": {},
   "outputs": [],
   "source": []
  },
  {
   "cell_type": "markdown",
   "metadata": {},
   "source": [
    "# Combine the selftext and the title"
   ]
  },
  {
   "cell_type": "code",
   "execution_count": 125,
   "metadata": {},
   "outputs": [],
   "source": [
    "sewing['combined_text'] = sewing['selftext'] + ' ' + sewing['title']\n",
    "printing['combined_text'] = printing['selftext'] + ' ' + printing['title']"
   ]
  },
  {
   "cell_type": "code",
   "execution_count": 126,
   "metadata": {},
   "outputs": [
    {
     "data": {
      "text/plain": [
       "0       none text just finish thi late nowher near acc...\n",
       "1       none text too excit to not share almost finish...\n",
       "2       none text a differ view of the thi piec set i ...\n",
       "3       none text i made thi piec set for th of juli r...\n",
       "4       none text first sew project sometim you gotta ...\n",
       "                              ...                        \n",
       "1995                none text look for vogu in larg or xl\n",
       "1996    i m still fairli new to sew and have a go at m...\n",
       "1997    none text look for vogu in larg or xl caftan p...\n",
       "1998    none text wa sew late sophi want to go to bed ...\n",
       "1999                           none text match stripe win\n",
       "Name: combined_text, Length: 1976, dtype: object"
      ]
     },
     "execution_count": 126,
     "metadata": {},
     "output_type": "execute_result"
    }
   ],
   "source": [
    "sewing['combined_text']"
   ]
  },
  {
   "cell_type": "markdown",
   "metadata": {},
   "source": [
    "# Combine sewing with printing"
   ]
  },
  {
   "cell_type": "code",
   "execution_count": 127,
   "metadata": {},
   "outputs": [],
   "source": [
    "final = pd.concat([sewing, printing])"
   ]
  },
  {
   "cell_type": "markdown",
   "metadata": {},
   "source": [
    "# Save the final"
   ]
  },
  {
   "cell_type": "code",
   "execution_count": 128,
   "metadata": {},
   "outputs": [],
   "source": [
    "final.to_csv('../data/final.csv', index=False)"
   ]
  },
  {
   "cell_type": "markdown",
   "metadata": {},
   "source": []
  },
  {
   "cell_type": "markdown",
   "metadata": {},
   "source": [
    "# Plot data to see high freaquent words"
   ]
  },
  {
   "cell_type": "markdown",
   "metadata": {},
   "source": [
    "##### Sewing"
   ]
  },
  {
   "cell_type": "code",
   "execution_count": 30,
   "metadata": {},
   "outputs": [],
   "source": [
    "cvec = CountVectorizer(max_features=20, stop_words='english')\n",
    "\n",
    "sewing_cvec = cvec.fit_transform(sewing['combined_text'])"
   ]
  },
  {
   "cell_type": "code",
   "execution_count": 31,
   "metadata": {},
   "outputs": [],
   "source": [
    "sewing_df = pd.DataFrame(sewing_cvec.todense(), columns=cvec.get_feature_names())"
   ]
  },
  {
   "cell_type": "code",
   "execution_count": 32,
   "metadata": {},
   "outputs": [],
   "source": [
    "sewing_word_sum = sewing_df.sum().sort_values()"
   ]
  },
  {
   "cell_type": "code",
   "execution_count": 33,
   "metadata": {},
   "outputs": [
    {
     "data": {
      "image/png": "[encoded data removed]",
      "text/plain": [
       "<Figure size 720x864 with 1 Axes>"
      ]
     },
     "metadata": {
      "needs_background": "light"
     },
     "output_type": "display_data"
    }
   ],
   "source": [
    "plt.figure(figsize=(10,12));\n",
    "plt.barh(sewing_word_sum.index, sewing_word_sum);\n",
    "plt.title('Top 20 High Frequent Words on Sewing', fontsize=18)\n",
    "plt.xlabel('Word Frequency', fontsize=18)\n",
    "plt.ylabel('Words', fontsize=18)\n",
    "plt.tick_params(labelsize=15)"
   ]
  },
  {
   "cell_type": "markdown",
   "metadata": {},
   "source": [
    "##### 3Dprinting"
   ]
  },
  {
   "cell_type": "code",
   "execution_count": 34,
   "metadata": {},
   "outputs": [],
   "source": [
    "cvec = CountVectorizer(max_features=20, stop_words='english')\n",
    "\n",
    "printing_cvec = cvec.fit_transform(printing['combined_text'])"
   ]
  },
  {
   "cell_type": "code",
   "execution_count": 35,
   "metadata": {},
   "outputs": [],
   "source": [
    "printing_df = pd.DataFrame(printing_cvec.todense(), columns=cvec.get_feature_names())"
   ]
  },
  {
   "cell_type": "code",
   "execution_count": 36,
   "metadata": {},
   "outputs": [],
   "source": [
    "printing_word_sum = printing_df.sum().sort_values()"
   ]
  },
  {
   "cell_type": "code",
   "execution_count": 37,
   "metadata": {},
   "outputs": [
    {
     "data": {
      "image/png": "[encoded data removed]",
      "text/plain": [
       "<Figure size 720x864 with 1 Axes>"
      ]
     },
     "metadata": {
      "needs_background": "light"
     },
     "output_type": "display_data"
    }
   ],
   "source": [
    "plt.figure(figsize=(10,12));\n",
    "plt.barh(printing_word_sum.index, printing_word_sum);\n",
    "plt.title('Top 20 High Frequent Words on 3Dprinting', fontsize=18)\n",
    "plt.xlabel('Word Frequency', fontsize=18)\n",
    "plt.ylabel('Words', fontsize=18)\n",
    "plt.tick_params(labelsize=15)"
   ]
  },
  {
   "cell_type": "markdown",
   "metadata": {},
   "source": [
    "##### The sewing data has some unique words such as sew, fabric, dress, etc, whereas the 3Dprinting has print, filament, etc. Those unique words are probably going to affect the prediction strongly. On next note book, models are going to be created using these data."
   ]
  },
  {
   "cell_type": "code",
   "execution_count": null,
   "metadata": {},
   "outputs": [],
   "source": []
  }
 ],
 "metadata": {
  "kernelspec": {
   "display_name": "Python 3",
   "language": "python",
   "name": "python3"
  },
  "language_info": {
   "codemirror_mode": {
    "name": "ipython",
    "version": 3
   },
   "file_extension": ".py",
   "mimetype": "text/x-python",
   "name": "python",
   "nbconvert_exporter": "python",
   "pygments_lexer": "ipython3",
   "version": "3.7.4"
  }
 },
 "nbformat": 4,
 "nbformat_minor": 2
}
